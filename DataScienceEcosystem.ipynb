{
 "cells": [
  {
   "cell_type": "markdown",
   "id": "a63240a9-c597-4d14-847a-40c40845bfe3",
   "metadata": {
    "tags": []
   },
   "source": [
    "# Data Science Tools and Ecosystem"
   ]
  },
  {
   "cell_type": "markdown",
   "id": "370bd77c-5fc4-479a-9e97-6f31f102302b",
   "metadata": {},
   "source": [
    "# In this notebook, Data Science Tools and Ecosystem are summarized.\n"
   ]
  },
  {
   "cell_type": "markdown",
   "id": "a03ed1a6-7b52-4adb-8979-36116f697030",
   "metadata": {},
   "source": [
    "Some of the popular languages that Data Scientists use are:\n"
   ]
  },
  {
   "cell_type": "markdown",
   "id": "0791ae0f-572e-4e11-b93f-210d207352f9",
   "metadata": {},
   "source": [
    "1)"
   ]
  },
  {
   "cell_type": "markdown",
   "id": "72154b9b-7a29-406e-b355-ea8d98ae073a",
   "metadata": {},
   "source": [
    "2)"
   ]
  },
  {
   "cell_type": "markdown",
   "id": "43055485-aada-490e-8ac5-3b6479aeb389",
   "metadata": {},
   "source": [
    "3)"
   ]
  },
  {
   "cell_type": "markdown",
   "id": "ffa2b47c-c01f-424d-a7f6-42dd074cdca5",
   "metadata": {},
   "source": [
    "## Data Science Libraries\n",
    "\n",
    "Here are some popular libraries used in data science with Python:\n",
    "\n",
    "- **NumPy**: Fundamental package for numerical computing with arrays.\n",
    "- **Pandas**: Data analysis and manipulation tool, provides data structures like DataFrame.\n",
    "- **Matplotlib**: Comprehensive library for creating static, animated, and interactive visualizations.\n",
    "- **Seaborn**: Statistical data visualization library based on Matplotlib, provides a high-level interface for drawing attractive and informative statistical graphics.\n",
    "- **Scikit-learn**: Simple and efficient tools for predictive data analysis, including machine learning algorithms.\n",
    "- **TensorFlow**: Open-source platform for machine learning and deep learning developed by Google.\n",
    "- **PyTorch**: Open-source deep learning framework that provides a flexible and dynamic computational graph.\n",
    "- **NLTK (Natural Language Toolkit)**: Suite of libraries and programs for symbolic and statistical natural language processing.\n",
    "- **Statsmodels**: Library for estimating and testing statistical models.\n",
    "\n"
   ]
  },
  {
   "cell_type": "markdown",
   "id": "2f39e894-03ca-4865-96c3-3101391488a6",
   "metadata": {},
   "source": [
    "## Data Science Tools\n",
    "\n",
    "| Data Science Tools |\n",
    "|--------------------|\n",
    "| Jupyter Notebook   |\n",
    "| RStudio            |\n",
    "| Spyder             |\n"
   ]
  },
  {
   "cell_type": "markdown",
   "id": "c2b2d7a6-e7c6-470c-9fbc-cbcd7e90289d",
   "metadata": {},
   "source": [
    "## Arithmetic Expression Examples\n",
    "\n",
    "Below are a few examples of evaluating arithmetic expressions in Python:\n",
    "\n",
    "### Examples\n",
    "\n",
    "- Addition: `2 + 3`\n",
    "- Subtraction: `5 - 2`\n",
    "- Multiplication: `4 * 6`\n",
    "- Division: `10 / 2`\n",
    "- Exponentiation: `2 ** 3` (2 raised to the power of 3)\n",
    "- Modulus (Remainder): `10 % 3`\n",
    "\n",
    " "
   ]
  },
  {
   "cell_type": "code",
   "execution_count": 1,
   "id": "4d517b6a-13df-4f6b-9b17-33c91cd2cd04",
   "metadata": {
    "tags": []
   },
   "outputs": [
    {
     "data": {
      "text/plain": [
       "17"
      ]
     },
     "execution_count": 1,
     "metadata": {},
     "output_type": "execute_result"
    }
   ],
   "source": [
    "# This is a simple arithmetic expression to multiply then add integers\n",
    "result = (3 * 4) + 5\n",
    "result\n"
   ]
  },
  {
   "cell_type": "code",
   "execution_count": 2,
   "id": "23ed4f94-c956-49b4-a13a-2069a4fa8bb3",
   "metadata": {
    "tags": []
   },
   "outputs": [
    {
     "data": {
      "text/plain": [
       "3.3333333333333335"
      ]
     },
     "execution_count": 2,
     "metadata": {},
     "output_type": "execute_result"
    }
   ],
   "source": [
    "# This will convert 200 minutes to hours by dividing by 60\n",
    "hours = 200 / 60\n",
    "hours\n"
   ]
  },
  {
   "cell_type": "markdown",
   "id": "ac24dcba-27f7-46e7-a8bd-124e0bb4bccf",
   "metadata": {},
   "source": [
    "**Objectives:**\n",
    "\n",
    "- List popular languages for Data Science.\n",
    "- Introduce common data science libraries in Python.\n",
    "- Demonstrate basic arithmetic operations in Python.\n",
    "- Showcase markdown formatting in Jupyter Notebook.\n",
    "- Illustrate commenting and executing code in Jupyter Notebook.\n"
   ]
  },
  {
   "cell_type": "markdown",
   "id": "322c3c13-faf7-478a-a288-af69d07d85f5",
   "metadata": {},
   "source": [
    "## Author\n",
    "\n",
    "Mosaad Hendam \n"
   ]
  },
  {
   "cell_type": "code",
   "execution_count": null,
   "id": "8c13f863-d6fe-491c-961b-3d160e0fe1df",
   "metadata": {},
   "outputs": [],
   "source": []
  }
 ],
 "metadata": {
  "kernelspec": {
   "display_name": "Python",
   "language": "python",
   "name": "conda-env-python-py"
  },
  "language_info": {
   "codemirror_mode": {
    "name": "ipython",
    "version": 3
   },
   "file_extension": ".py",
   "mimetype": "text/x-python",
   "name": "python",
   "nbconvert_exporter": "python",
   "pygments_lexer": "ipython3",
   "version": "3.7.12"
  }
 },
 "nbformat": 4,
 "nbformat_minor": 5
}
